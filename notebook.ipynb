{
 "cells": [
  {
   "metadata": {},
   "cell_type": "markdown",
   "source": [
    "# Розширений Евклідів алгоритм\n",]
    
    
   "id": "8a77807f92f26ee"
  },]
  {
   "metadata": {
    "ExecuteTime": {
     "end_time": "2025-03-17T17:44:03.877523Z",
     "start_time": "2025-03-17T17:44:03.870268Z"
    }
   },
   "cell_type": "code",
   "source": "import math",
   "id": "fbc121e30a2defb3",
   "outputs": [],
   "execution_count": 1
  },
  {
   "metadata": {
    "ExecuteTime": {
     "end_time": "2025-03-17T17:44:06.011734Z",
     "start_time": "2025-03-17T17:44:06.006638Z"
    }
   },
   "cell_type": "code",
   "source": [
    "a = 61\n",
    "m = 327"
   ],
   "id": "660652f4d9079509",
   "outputs": [],
   "execution_count": 2
  },
  {
   "metadata": {
    "ExecuteTime": {
     "end_time": "2025-03-17T17:44:10.204174Z",
     "start_time": "2025-03-17T17:44:10.198773Z"
    }
   },
   "cell_type": "code",
   "source": [
    "def is_prime(n):\n",
    "    if n <=1:\n",
    "        return False\n",
    "    for i in range(2, int(math.sqrt(n)) + 1):\n",
    "        if n%i == 0:\n",
    "            return False\n",
    "    return True"
   ],
   "id": "29ab54c25be4a962",
   "outputs": [],
   "execution_count": 3
  },
  {
   "metadata": {
    "ExecuteTime": {
     "end_time": "2025-03-17T17:44:12.994703Z",
     "start_time": "2025-03-17T17:44:12.990534Z"
    }
   },
   "cell_type": "code",
   "source": [
    "def gcd(x,y):\n",
    "    while y:\n",
    "        x, y = y, x%y\n",
    "    return x\n"
   ],
   "id": "79539a0cd0e4f084",
   "outputs": [],
   "execution_count": 4
  },
  {
   "metadata": {
    "ExecuteTime": {
     "end_time": "2025-03-17T17:44:17.463161Z",
     "start_time": "2025-03-17T17:44:17.455599Z"
    }
   },
   "cell_type": "code",
   "source": [
    "def conditions(a, m):\n",
    "    if a == 0:\n",
    "        raise ValueError(\"Число a не може бути 0\")\n",
    "    elif a>0 and m>0 and is_prime(m):\n",
    "        print(f\"{m} - просте, взаємну простоту не перевіряємо\")\n",
    "    elif a> 0 and m>0 and gcd(a, m) == 1:\n",
    "        print(f\"Числа {a} та {m} взаємнопрості\")\n",
    "    else:\n",
    "        raise ValueError(f\"Оберненого числа за модулем {m} до {a} не існує\")"
   ],
   "id": "af5e52382c09aa2c",
   "outputs": [],
   "execution_count": 5
  },
  {
   "metadata": {
    "ExecuteTime": {
     "end_time": "2025-03-17T17:44:21.173901Z",
     "start_time": "2025-03-17T17:44:21.169109Z"
    }
   },
   "cell_type": "code",
   "source": [
    "try:\n",
    "    conditions(a, m)\n",
    "except ValueError as e:\n",
    "    print(e)"
   ],
   "id": "9e7a0b81210d8d5e",
   "outputs": [
    {
     "name": "stdout",
     "output_type": "stream",
     "text": [
      "Числа 61 та 327 взаємнопрості\n"
     ]
    }
   ],
   "execution_count": 6
  },
  {
   "metadata": {
    "ExecuteTime": {
     "end_time": "2025-03-17T17:44:27.748517Z",
     "start_time": "2025-03-17T17:44:27.738694Z"
    }
   },
   "cell_type": "code",
   "source": [
    "def gcd_extended(a, b):\n",
    "    x0, x1, x2, y0, y1, y2 = 0, 0, 1,  0, 1, 0\n",
    "    table = []\n",
    "    r_prev, r_curr = b, a\n",
    "    table.append((-1, -1, r_prev, -1, x2, y0))\n",
    "    table.append((-1, r_prev, r_curr, -1, x1, y1))\n",
    "\n",
    "    while True:\n",
    "        q = r_prev // r_curr\n",
    "\n",
    "        r_next = r_prev % r_curr\n",
    "        x0 = x2 - q * x1\n",
    "        y0 = y2 - q * y1\n",
    "\n",
    "        table.append((r_prev, r_curr, r_next, q, x0, y0))\n",
    "\n",
    "        r_prev, r_curr = r_curr, r_next\n",
    "        x2, x1 = x1, x0\n",
    "        y2, y1 = y1, y0\n",
    "        if r_next <= 1:\n",
    "            break\n",
    "\n",
    "    return r_next, y0, table"
   ],
   "id": "3f1147d8d3dc40c9",
   "outputs": [],
   "execution_count": 7
  },
  {
   "metadata": {
    "ExecuteTime": {
     "end_time": "2025-03-17T17:44:31.865391Z",
     "start_time": "2025-03-17T17:44:31.856701Z"
    }
   },
   "cell_type": "code",
   "source": [
    "def modular_inverse(a, m):\n",
    "    if a == 0:\n",
    "        raise ValueError(\"Число a не може бути 0\")\n",
    "    gcd, x, table = gcd_extended(a, m)\n",
    "    if gcd != 1:\n",
    "        raise ValueError(\"Числа не є взаємно простими\")\n",
    "    print(\"\\nРозширений алгоритм Евкліда:\")\n",
    "    print(\"|  i  | r(i-2) | r(i-1) | r(i)  |  q(i)  |  x(i)  |  y(i)  |\")\n",
    "    print(\"|-----|--------|--------|------|------|------|------|\")\n",
    "    for i, (r_i_2, r_i_1, r_i, q, x_i, y_i) in enumerate(table, start=1):\n",
    "        print(f\"|  {i:2d} | {r_i_2:6d} | {r_i_1:6d} | {r_i:6d} | {q:5d} | {x_i:5d} | {y_i:5d} |\")\n",
    "    return x % m\n"
   ],
   "id": "1ab45d90415e9f34",
   "outputs": [],
   "execution_count": 8
  },
  {
   "metadata": {
    "ExecuteTime": {
     "end_time": "2025-03-17T17:44:34.175121Z",
     "start_time": "2025-03-17T17:44:34.169886Z"
    }
   },
   "cell_type": "code",
   "source": [
    "try:\n",
    "    inv = modular_inverse(a, m)\n",
    "    print(f\"Обернений елемент {a} за модулем {m}: {inv}\")\n",
    "except ValueError as e:\n",
    "    print(e)"
   ],
   "id": "2fba6d4752e2fb7e",
   "outputs": [
    {
     "name": "stdout",
     "output_type": "stream",
     "text": [
      "\n",
      "Розширений алгоритм Евкліда:\n",
      "|  i  | r(i-2) | r(i-1) | r(i)  |  q(i)  |  x(i)  |  y(i)  |\n",
      "|-----|--------|--------|------|------|------|------|\n",
      "|   1 |     -1 |     -1 |    327 |    -1 |     1 |     0 |\n",
      "|   2 |     -1 |    327 |     61 |    -1 |     0 |     1 |\n",
      "|   3 |    327 |     61 |     22 |     5 |     1 |    -5 |\n",
      "|   4 |     61 |     22 |     17 |     2 |    -2 |    11 |\n",
      "|   5 |     22 |     17 |      5 |     1 |     3 |   -16 |\n",
      "|   6 |     17 |      5 |      2 |     3 |   -11 |    59 |\n",
      "|   7 |      5 |      2 |      1 |     2 |    25 |  -134 |\n",
      "Обернений елемент 61 за модулем 327: 193\n"
     ]
    }
   ],
   "execution_count": 9
  },
  {
   "metadata": {},
   "cell_type": "code",
   "outputs": [],
   "execution_count": null,
   "source": "",
   "id": "21b9fd78eafaf52"
  }
 ],
 "metadata": {
  "kernelspec": {
   "display_name": "Python 3",
   "language": "python",
   "name": "python3"
  },
  "language_info": {
   "codemirror_mode": {
    "name": "ipython",
    "version": 2
   },
   "file_extension": ".py",
   "mimetype": "text/x-python",
   "name": "python",
   "nbconvert_exporter": "python",
   "pygments_lexer": "ipython2",
   "version": "2.7.6"
  }
 },
 "nbformat": 4,
 "nbformat_minor": 5
}
